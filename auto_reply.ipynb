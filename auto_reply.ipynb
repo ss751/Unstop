{
 "cells": [
  {
   "cell_type": "code",
   "execution_count": 1,
   "id": "0e55aab9",
   "metadata": {},
   "outputs": [],
   "source": [
    "from datasets import load_dataset\n",
    "import pandas as pd\n",
    "from sentence_transformers import SentenceTransformer\n",
    "import faiss\n",
    "import numpy as np"
   ]
  },
  {
   "cell_type": "code",
   "execution_count": 15,
   "id": "6d2e7d8c",
   "metadata": {},
   "outputs": [],
   "source": [
    "ds = pd.read_csv('cust_support.csv')\n",
    "texts = []\n",
    "for i,j in zip(ds['Column2'], ds['Column5']):\n",
    "    texts.append(f\"q: {i} \" + f\"a: {j}\")"
   ]
  },
  {
   "cell_type": "code",
   "execution_count": 29,
   "id": "82c19e7a",
   "metadata": {},
   "outputs": [],
   "source": [
    "model = SentenceTransformer('all-MiniLM-L6-v2')\n",
    "embeddings = model.encode(texts, convert_to_numpy=True)\n",
    "\n",
    "dimension = embeddings.shape[1]\n",
    "kb = faiss.IndexFlatL2(dimension)\n",
    "kb.add(embeddings)\n",
    "faiss.write_index(kb, \"faiss.index\")\n"
   ]
  },
  {
   "cell_type": "code",
   "execution_count": 17,
   "id": "e08a8caa",
   "metadata": {},
   "outputs": [
    {
     "data": {
      "text/plain": [
       "('REFUND',\n",
       " [\"q: help me seeing your fucking money back policy a: I apologize for any inconvenience caused, but I'm unable to assist with that specific request. However, if you have any other questions or concerns about our refund policy, I'll be more than happy to provide you with the necessary information. Just let me know how I can assist you further.\",\n",
       "  'q: check your refund policy a: I\\'ll make it happen! I understand the importance of having a clear understanding of our refund policy. Let me guide you on how you can access it.\\r\\n\\r\\nTo check our refund policy, you can visit our website and navigate to the \"Terms and Conditions\" or \"Refund Policy\" section. There, you will find comprehensive information about our refund process, including eligible situations, timeframes, and any specific requirements.\\r\\n\\r\\nIf you prefer, I can also provide you with a direct link to our refund policy page. Just let me know and I\\'ll be more than happy to assist you further.\\r\\n\\r\\nPlease feel free to reach out if you have any more questions or need any additional assistance.'])"
      ]
     },
     "execution_count": 17,
     "metadata": {},
     "output_type": "execute_result"
    }
   ],
   "source": [
    "\n",
    "def retrieve(query, top_k=2):\n",
    "    query_emb = model.encode([query], convert_to_numpy=True)\n",
    "    distances, indices = kb.search(query_emb, top_k)\n",
    "    context = []\n",
    "    category = ''\n",
    "    for i, j in zip(indices[0], distances[0]):\n",
    "        i = int(i)\n",
    "        if i == -1:\n",
    "            continue\n",
    "        if j >= 0.3:\n",
    "            context.append(f\"q: {ds.iloc[i, 0]} \" + f\"a: {ds.iloc[i, 3]}\")\n",
    "            category = ds.iloc[i,1]\n",
    "    return category, context\n",
    "\n",
    "retrieve('Request for refund process clarification,Could you clarify the steps involved in requesting a refund? I submitted one last week but have no update.')"
   ]
  },
  {
   "cell_type": "code",
   "execution_count": 26,
   "id": "f5702ca4",
   "metadata": {},
   "outputs": [],
   "source": [
    "from google import genai\n",
    "from dotenv import load_dotenv\n",
    "import os\n",
    "\n",
    "def response(sender, query):\n",
    "    load_dotenv()\n",
    "    api_key = os.getenv('api_key')\n",
    "    client = genai.Client(api_key=api_key)\n",
    "    category, context = retrieve(query)\n",
    "    prompt =  f\"\"\"Act as a professional email assistant. You will be given three inputs:\n",
    "                The latest email or query that requires a response.\n",
    "                The context, which includes the previous email responses or any relevant conversation history.\n",
    "                Your goal is to generate a polite, clear, and contextually accurate reply that continues the conversation naturally. Keep the tone professional unless otherwise specified.\n",
    "\n",
    "                Inputs:\n",
    "                Team Name: Linkenite\n",
    "                Work Time: 9AM - 5PM\n",
    "                Sender: {sender}\n",
    "                Query (incoming email): {query}\n",
    "                Context (previous responses/known interactions): {context}\n",
    "\n",
    "                Now, draft a well-structured email (body only) reply that is consistent with the context but directly addresses the new query. The response should:\n",
    "                    - Acknowledge the sender’s concerns or questions by understanding their tone.\n",
    "                    - Build on or reference relevant parts of the previous context.\n",
    "                    - Provide clear next steps, answers, or required information and keep it short.\n",
    "                    - Maintain an appropriate, professional closing.\n",
    "                \"\"\"\n",
    "\n",
    "\n",
    "    response = client.models.generate_content(\n",
    "        model=\"gemini-2.5-flash\",\n",
    "        contents=prompt,\n",
    "    )\n",
    "\n",
    "    return category, response.candidates[0].content.parts[0].text"
   ]
  },
  {
   "cell_type": "code",
   "execution_count": 27,
   "id": "3b29454a",
   "metadata": {},
   "outputs": [],
   "source": [
    "category, auto_rep = response('Shreyas', 'General query about subscription,\"Our servers are down, and we need immediate support. This is highly critical.')\n"
   ]
  },
  {
   "cell_type": "code",
   "execution_count": 28,
   "id": "61c0dcbd",
   "metadata": {},
   "outputs": [
    {
     "name": "stdout",
     "output_type": "stream",
     "text": [
      "CONTACT\n",
      "=====================\n",
      "Dear Shreyas,\n",
      "\n",
      "Thank you for reaching out to us. We understand the critical nature of your server issue and the urgency of needing immediate support.\n",
      "\n",
      "For the fastest possible resolution to critical incidents like server downtime, we highly recommend contacting our dedicated support team directly. You can reach us by phone at **{{Customer Support Phone Number}}** or connect instantly with a representative through our Live Chat feature on our website at **{{Website URL}}**. Our team is available from **9 AM - 5 PM** to provide real-time assistance.\n",
      "\n",
      "We are fully committed to resolving this for you as quickly as possible.\n",
      "\n",
      "Sincerely,\n",
      "The Linkenite Team\n"
     ]
    }
   ],
   "source": [
    "print(category)\n",
    "print(\"=====================\")\n",
    "print(auto_rep)"
   ]
  },
  {
   "cell_type": "code",
   "execution_count": 3,
   "id": "f49335cb",
   "metadata": {},
   "outputs": [
    {
     "data": {
      "text/plain": [
       "9979"
      ]
     },
     "execution_count": 3,
     "metadata": {},
     "output_type": "execute_result"
    }
   ],
   "source": [
    "kb = faiss.read_index(\"faiss.index\")\n",
    "kb.ntotal"
   ]
  },
  {
   "cell_type": "code",
   "execution_count": null,
   "id": "b106aee2",
   "metadata": {},
   "outputs": [],
   "source": []
  }
 ],
 "metadata": {
  "kernelspec": {
   "display_name": "unstop",
   "language": "python",
   "name": "python3"
  },
  "language_info": {
   "codemirror_mode": {
    "name": "ipython",
    "version": 3
   },
   "file_extension": ".py",
   "mimetype": "text/x-python",
   "name": "python",
   "nbconvert_exporter": "python",
   "pygments_lexer": "ipython3",
   "version": "3.13.5"
  }
 },
 "nbformat": 4,
 "nbformat_minor": 5
}
